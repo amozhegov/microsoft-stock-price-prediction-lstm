{
  "nbformat": 4,
  "nbformat_minor": 0,
  "metadata": {
    "colab": {
      "provenance": []
    },
    "kernelspec": {
      "name": "python3",
      "display_name": "Python 3"
    },
    "language_info": {
      "name": "python"
    }
  },
  "cells": [
    {
      "cell_type": "markdown",
      "source": [
        "# Microsoft Stock price prediction using Neural Networks (LSTM)\n",
        "\n",
        "Dataset: https://www.kaggle.com/datasets/borismarjanovic/price-volume-data-for-all-us-stocks-etfs\n"
      ],
      "metadata": {
        "id": "wkkscAJlVOw3"
      }
    },
    {
      "cell_type": "code",
      "execution_count": 46,
      "metadata": {
        "id": "pxWx1c4wvlLd"
      },
      "outputs": [],
      "source": [
        "# Importing libraries\n",
        "import pandas as pd\n",
        "from datetime import timedelta\n",
        "import numpy as np\n",
        "import tensorflow as tf\n",
        "from sklearn.preprocessing import StandardScaler\n",
        "from sklearn.metrics import mean_absolute_error\n",
        "from matplotlib import pyplot as plt\n",
        "from typing import List"
      ]
    },
    {
      "cell_type": "code",
      "source": [
        "# Read Microsoft Stock prices Dataset\n",
        "df = pd.read_csv('msft.us.txt', parse_dates = ['Date'])"
      ],
      "metadata": {
        "id": "AyAlU7hB9Jlc"
      },
      "execution_count": 47,
      "outputs": []
    },
    {
      "cell_type": "code",
      "source": [
        "# 10 first entries\n",
        "df.head(10)"
      ],
      "metadata": {
        "id": "f1ZlQXt29Zko",
        "colab": {
          "base_uri": "https://localhost:8080/",
          "height": 363
        },
        "outputId": "0eb758e2-7c04-4386-fd00-e9992de7e379"
      },
      "execution_count": 48,
      "outputs": [
        {
          "output_type": "execute_result",
          "data": {
            "text/plain": [
              "        Date     Open     High      Low    Close      Volume  OpenInt\n",
              "0 1986-03-13  0.06720  0.07533  0.06720  0.07533  1371330506        0\n",
              "1 1986-03-14  0.07533  0.07533  0.07533  0.07533   409569463        0\n",
              "2 1986-03-17  0.07533  0.07533  0.07533  0.07533   176995245        0\n",
              "3 1986-03-18  0.07533  0.07533  0.07533  0.07533    90067008        0\n",
              "4 1986-03-19  0.07533  0.07533  0.07533  0.07533    63655515        0\n",
              "5 1986-03-20  0.07533  0.07533  0.06720  0.07533    77665088        0\n",
              "6 1986-03-21  0.07533  0.07533  0.06720  0.06720    79732075        0\n",
              "7 1986-03-24  0.06720  0.06720  0.06720  0.06720    86775144        0\n",
              "8 1986-03-25  0.06720  0.06720  0.06720  0.06720    42641156        0\n",
              "9 1986-03-26  0.06720  0.07533  0.06720  0.06720    30239240        0"
            ],
            "text/html": [
              "\n",
              "  <div id=\"df-c3613b29-d607-4cca-b199-abc10fef3f72\">\n",
              "    <div class=\"colab-df-container\">\n",
              "      <div>\n",
              "<style scoped>\n",
              "    .dataframe tbody tr th:only-of-type {\n",
              "        vertical-align: middle;\n",
              "    }\n",
              "\n",
              "    .dataframe tbody tr th {\n",
              "        vertical-align: top;\n",
              "    }\n",
              "\n",
              "    .dataframe thead th {\n",
              "        text-align: right;\n",
              "    }\n",
              "</style>\n",
              "<table border=\"1\" class=\"dataframe\">\n",
              "  <thead>\n",
              "    <tr style=\"text-align: right;\">\n",
              "      <th></th>\n",
              "      <th>Date</th>\n",
              "      <th>Open</th>\n",
              "      <th>High</th>\n",
              "      <th>Low</th>\n",
              "      <th>Close</th>\n",
              "      <th>Volume</th>\n",
              "      <th>OpenInt</th>\n",
              "    </tr>\n",
              "  </thead>\n",
              "  <tbody>\n",
              "    <tr>\n",
              "      <th>0</th>\n",
              "      <td>1986-03-13</td>\n",
              "      <td>0.06720</td>\n",
              "      <td>0.07533</td>\n",
              "      <td>0.06720</td>\n",
              "      <td>0.07533</td>\n",
              "      <td>1371330506</td>\n",
              "      <td>0</td>\n",
              "    </tr>\n",
              "    <tr>\n",
              "      <th>1</th>\n",
              "      <td>1986-03-14</td>\n",
              "      <td>0.07533</td>\n",
              "      <td>0.07533</td>\n",
              "      <td>0.07533</td>\n",
              "      <td>0.07533</td>\n",
              "      <td>409569463</td>\n",
              "      <td>0</td>\n",
              "    </tr>\n",
              "    <tr>\n",
              "      <th>2</th>\n",
              "      <td>1986-03-17</td>\n",
              "      <td>0.07533</td>\n",
              "      <td>0.07533</td>\n",
              "      <td>0.07533</td>\n",
              "      <td>0.07533</td>\n",
              "      <td>176995245</td>\n",
              "      <td>0</td>\n",
              "    </tr>\n",
              "    <tr>\n",
              "      <th>3</th>\n",
              "      <td>1986-03-18</td>\n",
              "      <td>0.07533</td>\n",
              "      <td>0.07533</td>\n",
              "      <td>0.07533</td>\n",
              "      <td>0.07533</td>\n",
              "      <td>90067008</td>\n",
              "      <td>0</td>\n",
              "    </tr>\n",
              "    <tr>\n",
              "      <th>4</th>\n",
              "      <td>1986-03-19</td>\n",
              "      <td>0.07533</td>\n",
              "      <td>0.07533</td>\n",
              "      <td>0.07533</td>\n",
              "      <td>0.07533</td>\n",
              "      <td>63655515</td>\n",
              "      <td>0</td>\n",
              "    </tr>\n",
              "    <tr>\n",
              "      <th>5</th>\n",
              "      <td>1986-03-20</td>\n",
              "      <td>0.07533</td>\n",
              "      <td>0.07533</td>\n",
              "      <td>0.06720</td>\n",
              "      <td>0.07533</td>\n",
              "      <td>77665088</td>\n",
              "      <td>0</td>\n",
              "    </tr>\n",
              "    <tr>\n",
              "      <th>6</th>\n",
              "      <td>1986-03-21</td>\n",
              "      <td>0.07533</td>\n",
              "      <td>0.07533</td>\n",
              "      <td>0.06720</td>\n",
              "      <td>0.06720</td>\n",
              "      <td>79732075</td>\n",
              "      <td>0</td>\n",
              "    </tr>\n",
              "    <tr>\n",
              "      <th>7</th>\n",
              "      <td>1986-03-24</td>\n",
              "      <td>0.06720</td>\n",
              "      <td>0.06720</td>\n",
              "      <td>0.06720</td>\n",
              "      <td>0.06720</td>\n",
              "      <td>86775144</td>\n",
              "      <td>0</td>\n",
              "    </tr>\n",
              "    <tr>\n",
              "      <th>8</th>\n",
              "      <td>1986-03-25</td>\n",
              "      <td>0.06720</td>\n",
              "      <td>0.06720</td>\n",
              "      <td>0.06720</td>\n",
              "      <td>0.06720</td>\n",
              "      <td>42641156</td>\n",
              "      <td>0</td>\n",
              "    </tr>\n",
              "    <tr>\n",
              "      <th>9</th>\n",
              "      <td>1986-03-26</td>\n",
              "      <td>0.06720</td>\n",
              "      <td>0.07533</td>\n",
              "      <td>0.06720</td>\n",
              "      <td>0.06720</td>\n",
              "      <td>30239240</td>\n",
              "      <td>0</td>\n",
              "    </tr>\n",
              "  </tbody>\n",
              "</table>\n",
              "</div>\n",
              "      <button class=\"colab-df-convert\" onclick=\"convertToInteractive('df-c3613b29-d607-4cca-b199-abc10fef3f72')\"\n",
              "              title=\"Convert this dataframe to an interactive table.\"\n",
              "              style=\"display:none;\">\n",
              "        \n",
              "  <svg xmlns=\"http://www.w3.org/2000/svg\" height=\"24px\"viewBox=\"0 0 24 24\"\n",
              "       width=\"24px\">\n",
              "    <path d=\"M0 0h24v24H0V0z\" fill=\"none\"/>\n",
              "    <path d=\"M18.56 5.44l.94 2.06.94-2.06 2.06-.94-2.06-.94-.94-2.06-.94 2.06-2.06.94zm-11 1L8.5 8.5l.94-2.06 2.06-.94-2.06-.94L8.5 2.5l-.94 2.06-2.06.94zm10 10l.94 2.06.94-2.06 2.06-.94-2.06-.94-.94-2.06-.94 2.06-2.06.94z\"/><path d=\"M17.41 7.96l-1.37-1.37c-.4-.4-.92-.59-1.43-.59-.52 0-1.04.2-1.43.59L10.3 9.45l-7.72 7.72c-.78.78-.78 2.05 0 2.83L4 21.41c.39.39.9.59 1.41.59.51 0 1.02-.2 1.41-.59l7.78-7.78 2.81-2.81c.8-.78.8-2.07 0-2.86zM5.41 20L4 18.59l7.72-7.72 1.47 1.35L5.41 20z\"/>\n",
              "  </svg>\n",
              "      </button>\n",
              "      \n",
              "  <style>\n",
              "    .colab-df-container {\n",
              "      display:flex;\n",
              "      flex-wrap:wrap;\n",
              "      gap: 12px;\n",
              "    }\n",
              "\n",
              "    .colab-df-convert {\n",
              "      background-color: #E8F0FE;\n",
              "      border: none;\n",
              "      border-radius: 50%;\n",
              "      cursor: pointer;\n",
              "      display: none;\n",
              "      fill: #1967D2;\n",
              "      height: 32px;\n",
              "      padding: 0 0 0 0;\n",
              "      width: 32px;\n",
              "    }\n",
              "\n",
              "    .colab-df-convert:hover {\n",
              "      background-color: #E2EBFA;\n",
              "      box-shadow: 0px 1px 2px rgba(60, 64, 67, 0.3), 0px 1px 3px 1px rgba(60, 64, 67, 0.15);\n",
              "      fill: #174EA6;\n",
              "    }\n",
              "\n",
              "    [theme=dark] .colab-df-convert {\n",
              "      background-color: #3B4455;\n",
              "      fill: #D2E3FC;\n",
              "    }\n",
              "\n",
              "    [theme=dark] .colab-df-convert:hover {\n",
              "      background-color: #434B5C;\n",
              "      box-shadow: 0px 1px 3px 1px rgba(0, 0, 0, 0.15);\n",
              "      filter: drop-shadow(0px 1px 2px rgba(0, 0, 0, 0.3));\n",
              "      fill: #FFFFFF;\n",
              "    }\n",
              "  </style>\n",
              "\n",
              "      <script>\n",
              "        const buttonEl =\n",
              "          document.querySelector('#df-c3613b29-d607-4cca-b199-abc10fef3f72 button.colab-df-convert');\n",
              "        buttonEl.style.display =\n",
              "          google.colab.kernel.accessAllowed ? 'block' : 'none';\n",
              "\n",
              "        async function convertToInteractive(key) {\n",
              "          const element = document.querySelector('#df-c3613b29-d607-4cca-b199-abc10fef3f72');\n",
              "          const dataTable =\n",
              "            await google.colab.kernel.invokeFunction('convertToInteractive',\n",
              "                                                     [key], {});\n",
              "          if (!dataTable) return;\n",
              "\n",
              "          const docLinkHtml = 'Like what you see? Visit the ' +\n",
              "            '<a target=\"_blank\" href=https://colab.research.google.com/notebooks/data_table.ipynb>data table notebook</a>'\n",
              "            + ' to learn more about interactive tables.';\n",
              "          element.innerHTML = '';\n",
              "          dataTable['output_type'] = 'display_data';\n",
              "          await google.colab.output.renderOutput(dataTable, element);\n",
              "          const docLink = document.createElement('div');\n",
              "          docLink.innerHTML = docLinkHtml;\n",
              "          element.appendChild(docLink);\n",
              "        }\n",
              "      </script>\n",
              "    </div>\n",
              "  </div>\n",
              "  "
            ]
          },
          "metadata": {},
          "execution_count": 48
        }
      ]
    },
    {
      "cell_type": "code",
      "source": [
        "df.shape"
      ],
      "metadata": {
        "colab": {
          "base_uri": "https://localhost:8080/",
          "height": 0
        },
        "id": "5R__ehS4-3tD",
        "outputId": "60288eb9-41b9-4d43-ec19-57e2d7907714"
      },
      "execution_count": 49,
      "outputs": [
        {
          "output_type": "execute_result",
          "data": {
            "text/plain": [
              "(7983, 7)"
            ]
          },
          "metadata": {},
          "execution_count": 49
        }
      ]
    },
    {
      "cell_type": "markdown",
      "source": [
        "7983 rows\n",
        "7 columns"
      ],
      "metadata": {
        "id": "d7m8-taZ_Mbj"
      }
    },
    {
      "cell_type": "code",
      "source": [
        "df['Date'].min()"
      ],
      "metadata": {
        "colab": {
          "base_uri": "https://localhost:8080/",
          "height": 0
        },
        "id": "U5HPCgBw_C-U",
        "outputId": "75387205-0fd1-4827-f59f-9292958ff66b"
      },
      "execution_count": 50,
      "outputs": [
        {
          "output_type": "execute_result",
          "data": {
            "text/plain": [
              "Timestamp('1986-03-13 00:00:00')"
            ]
          },
          "metadata": {},
          "execution_count": 50
        }
      ]
    },
    {
      "cell_type": "code",
      "source": [
        "# Microsoft stocks by Date\n",
        "df.plot(x='Date', y='Open')"
      ],
      "metadata": {
        "colab": {
          "base_uri": "https://localhost:8080/",
          "height": 439
        },
        "id": "4PJ4ClNFAAhG",
        "outputId": "dfa542cc-83e1-4088-8dc5-d37238269803"
      },
      "execution_count": 51,
      "outputs": [
        {
          "output_type": "execute_result",
          "data": {
            "text/plain": [
              "<Axes: xlabel='Date'>"
            ]
          },
          "metadata": {},
          "execution_count": 51
        },
        {
          "output_type": "display_data",
          "data": {
            "text/plain": [
              "<Figure size 640x480 with 1 Axes>"
            ],
            "image/png": "[encoded data removed]"
          },
          "metadata": {}
        }
      ]
    },
    {
      "cell_type": "code",
      "source": [
        "# Correlation\n",
        "df[['Open', 'High', 'Low', 'Close']].corr()"
      ],
      "metadata": {
        "colab": {
          "base_uri": "https://localhost:8080/",
          "height": 175
        },
        "id": "7MIHQMfhAOOm",
        "outputId": "0988bb0f-c057-482f-c5df-f0205376e55c"
      },
      "execution_count": 52,
      "outputs": [
        {
          "output_type": "execute_result",
          "data": {
            "text/plain": [
              "           Open      High       Low     Close\n",
              "Open   1.000000  0.999886  0.999879  0.999782\n",
              "High   0.999886  1.000000  0.999820  0.999886\n",
              "Low    0.999879  0.999820  1.000000  0.999882\n",
              "Close  0.999782  0.999886  0.999882  1.000000"
            ],
            "text/html": [
              "\n",
              "  <div id=\"df-80adf568-a845-414b-a2d3-1a25672a6fd8\">\n",
              "    <div class=\"colab-df-container\">\n",
              "      <div>\n",
              "<style scoped>\n",
              "    .dataframe tbody tr th:only-of-type {\n",
              "        vertical-align: middle;\n",
              "    }\n",
              "\n",
              "    .dataframe tbody tr th {\n",
              "        vertical-align: top;\n",
              "    }\n",
              "\n",
              "    .dataframe thead th {\n",
              "        text-align: right;\n",
              "    }\n",
              "</style>\n",
              "<table border=\"1\" class=\"dataframe\">\n",
              "  <thead>\n",
              "    <tr style=\"text-align: right;\">\n",
              "      <th></th>\n",
              "      <th>Open</th>\n",
              "      <th>High</th>\n",
              "      <th>Low</th>\n",
              "      <th>Close</th>\n",
              "    </tr>\n",
              "  </thead>\n",
              "  <tbody>\n",
              "    <tr>\n",
              "      <th>Open</th>\n",
              "      <td>1.000000</td>\n",
              "      <td>0.999886</td>\n",
              "      <td>0.999879</td>\n",
              "      <td>0.999782</td>\n",
              "    </tr>\n",
              "    <tr>\n",
              "      <th>High</th>\n",
              "      <td>0.999886</td>\n",
              "      <td>1.000000</td>\n",
              "      <td>0.999820</td>\n",
              "      <td>0.999886</td>\n",
              "    </tr>\n",
              "    <tr>\n",
              "      <th>Low</th>\n",
              "      <td>0.999879</td>\n",
              "      <td>0.999820</td>\n",
              "      <td>1.000000</td>\n",
              "      <td>0.999882</td>\n",
              "    </tr>\n",
              "    <tr>\n",
              "      <th>Close</th>\n",
              "      <td>0.999782</td>\n",
              "      <td>0.999886</td>\n",
              "      <td>0.999882</td>\n",
              "      <td>1.000000</td>\n",
              "    </tr>\n",
              "  </tbody>\n",
              "</table>\n",
              "</div>\n",
              "      <button class=\"colab-df-convert\" onclick=\"convertToInteractive('df-80adf568-a845-414b-a2d3-1a25672a6fd8')\"\n",
              "              title=\"Convert this dataframe to an interactive table.\"\n",
              "              style=\"display:none;\">\n",
              "        \n",
              "  <svg xmlns=\"http://www.w3.org/2000/svg\" height=\"24px\"viewBox=\"0 0 24 24\"\n",
              "       width=\"24px\">\n",
              "    <path d=\"M0 0h24v24H0V0z\" fill=\"none\"/>\n",
              "    <path d=\"M18.56 5.44l.94 2.06.94-2.06 2.06-.94-2.06-.94-.94-2.06-.94 2.06-2.06.94zm-11 1L8.5 8.5l.94-2.06 2.06-.94-2.06-.94L8.5 2.5l-.94 2.06-2.06.94zm10 10l.94 2.06.94-2.06 2.06-.94-2.06-.94-.94-2.06-.94 2.06-2.06.94z\"/><path d=\"M17.41 7.96l-1.37-1.37c-.4-.4-.92-.59-1.43-.59-.52 0-1.04.2-1.43.59L10.3 9.45l-7.72 7.72c-.78.78-.78 2.05 0 2.83L4 21.41c.39.39.9.59 1.41.59.51 0 1.02-.2 1.41-.59l7.78-7.78 2.81-2.81c.8-.78.8-2.07 0-2.86zM5.41 20L4 18.59l7.72-7.72 1.47 1.35L5.41 20z\"/>\n",
              "  </svg>\n",
              "      </button>\n",
              "      \n",
              "  <style>\n",
              "    .colab-df-container {\n",
              "      display:flex;\n",
              "      flex-wrap:wrap;\n",
              "      gap: 12px;\n",
              "    }\n",
              "\n",
              "    .colab-df-convert {\n",
              "      background-color: #E8F0FE;\n",
              "      border: none;\n",
              "      border-radius: 50%;\n",
              "      cursor: pointer;\n",
              "      display: none;\n",
              "      fill: #1967D2;\n",
              "      height: 32px;\n",
              "      padding: 0 0 0 0;\n",
              "      width: 32px;\n",
              "    }\n",
              "\n",
              "    .colab-df-convert:hover {\n",
              "      background-color: #E2EBFA;\n",
              "      box-shadow: 0px 1px 2px rgba(60, 64, 67, 0.3), 0px 1px 3px 1px rgba(60, 64, 67, 0.15);\n",
              "      fill: #174EA6;\n",
              "    }\n",
              "\n",
              "    [theme=dark] .colab-df-convert {\n",
              "      background-color: #3B4455;\n",
              "      fill: #D2E3FC;\n",
              "    }\n",
              "\n",
              "    [theme=dark] .colab-df-convert:hover {\n",
              "      background-color: #434B5C;\n",
              "      box-shadow: 0px 1px 3px 1px rgba(0, 0, 0, 0.15);\n",
              "      filter: drop-shadow(0px 1px 2px rgba(0, 0, 0, 0.3));\n",
              "      fill: #FFFFFF;\n",
              "    }\n",
              "  </style>\n",
              "\n",
              "      <script>\n",
              "        const buttonEl =\n",
              "          document.querySelector('#df-80adf568-a845-414b-a2d3-1a25672a6fd8 button.colab-df-convert');\n",
              "        buttonEl.style.display =\n",
              "          google.colab.kernel.accessAllowed ? 'block' : 'none';\n",
              "\n",
              "        async function convertToInteractive(key) {\n",
              "          const element = document.querySelector('#df-80adf568-a845-414b-a2d3-1a25672a6fd8');\n",
              "          const dataTable =\n",
              "            await google.colab.kernel.invokeFunction('convertToInteractive',\n",
              "                                                     [key], {});\n",
              "          if (!dataTable) return;\n",
              "\n",
              "          const docLinkHtml = 'Like what you see? Visit the ' +\n",
              "            '<a target=\"_blank\" href=https://colab.research.google.com/notebooks/data_table.ipynb>data table notebook</a>'\n",
              "            + ' to learn more about interactive tables.';\n",
              "          element.innerHTML = '';\n",
              "          dataTable['output_type'] = 'display_data';\n",
              "          await google.colab.output.renderOutput(dataTable, element);\n",
              "          const docLink = document.createElement('div');\n",
              "          docLink.innerHTML = docLinkHtml;\n",
              "          element.appendChild(docLink);\n",
              "        }\n",
              "      </script>\n",
              "    </div>\n",
              "  </div>\n",
              "  "
            ]
          },
          "metadata": {},
          "execution_count": 52
        }
      ]
    },
    {
      "cell_type": "code",
      "source": [
        "# Dataframe for 5 years:\n",
        "df_5_years = df[df['Date'] > df['Date'].max() - timedelta(days=365*5)]"
      ],
      "metadata": {
        "id": "IrItp19RCxxE"
      },
      "execution_count": 53,
      "outputs": []
    },
    {
      "cell_type": "code",
      "source": [
        "df_5_years"
      ],
      "metadata": {
        "colab": {
          "base_uri": "https://localhost:8080/",
          "height": 423
        },
        "id": "GghqwsagDrR4",
        "outputId": "b648b89d-1d2b-4a06-f41a-29773531e458"
      },
      "execution_count": 54,
      "outputs": [
        {
          "output_type": "execute_result",
          "data": {
            "text/plain": [
              "           Date    Open    High      Low   Close     Volume  OpenInt\n",
              "6723 2012-11-12  25.259  25.321  24.6240  24.630   70004599        0\n",
              "6724 2012-11-13  23.778  24.026  23.5400  23.840  149637406        0\n",
              "6725 2012-11-14  23.970  24.016  23.5820  23.620   86466650        0\n",
              "6726 2012-11-15  23.655  23.735  23.4320  23.461   57895114        0\n",
              "6727 2012-11-16  23.470  23.497  23.1790  23.339   72827220        0\n",
              "...         ...     ...     ...      ...     ...        ...      ...\n",
              "7978 2017-11-06  84.200  84.700  84.0825  84.470   19852151        0\n",
              "7979 2017-11-07  84.770  84.900  83.9300  84.260   17927878        0\n",
              "7980 2017-11-08  84.140  84.610  83.8300  84.560   18029584        0\n",
              "7981 2017-11-09  84.110  84.270  82.9000  84.090   21175384        0\n",
              "7982 2017-11-10  83.790  84.095  83.2300  83.870   19396301        0\n",
              "\n",
              "[1260 rows x 7 columns]"
            ],
            "text/html": [
              "\n",
              "  <div id=\"df-919a90e1-5151-4388-a6fe-f35b2e738182\">\n",
              "    <div class=\"colab-df-container\">\n",
              "      <div>\n",
              "<style scoped>\n",
              "    .dataframe tbody tr th:only-of-type {\n",
              "        vertical-align: middle;\n",
              "    }\n",
              "\n",
              "    .dataframe tbody tr th {\n",
              "        vertical-align: top;\n",
              "    }\n",
              "\n",
              "    .dataframe thead th {\n",
              "        text-align: right;\n",
              "    }\n",
              "</style>\n",
              "<table border=\"1\" class=\"dataframe\">\n",
              "  <thead>\n",
              "    <tr style=\"text-align: right;\">\n",
              "      <th></th>\n",
              "      <th>Date</th>\n",
              "      <th>Open</th>\n",
              "      <th>High</th>\n",
              "      <th>Low</th>\n",
              "      <th>Close</th>\n",
              "      <th>Volume</th>\n",
              "      <th>OpenInt</th>\n",
              "    </tr>\n",
              "  </thead>\n",
              "  <tbody>\n",
              "    <tr>\n",
              "      <th>6723</th>\n",
              "      <td>2012-11-12</td>\n",
              "      <td>25.259</td>\n",
              "      <td>25.321</td>\n",
              "      <td>24.6240</td>\n",
              "      <td>24.630</td>\n",
              "      <td>70004599</td>\n",
              "      <td>0</td>\n",
              "    </tr>\n",
              "    <tr>\n",
              "      <th>6724</th>\n",
              "      <td>2012-11-13</td>\n",
              "      <td>23.778</td>\n",
              "      <td>24.026</td>\n",
              "      <td>23.5400</td>\n",
              "      <td>23.840</td>\n",
              "      <td>149637406</td>\n",
              "      <td>0</td>\n",
              "    </tr>\n",
              "    <tr>\n",
              "      <th>6725</th>\n",
              "      <td>2012-11-14</td>\n",
              "      <td>23.970</td>\n",
              "      <td>24.016</td>\n",
              "      <td>23.5820</td>\n",
              "      <td>23.620</td>\n",
              "      <td>86466650</td>\n",
              "      <td>0</td>\n",
              "    </tr>\n",
              "    <tr>\n",
              "      <th>6726</th>\n",
              "      <td>2012-11-15</td>\n",
              "      <td>23.655</td>\n",
              "      <td>23.735</td>\n",
              "      <td>23.4320</td>\n",
              "      <td>23.461</td>\n",
              "      <td>57895114</td>\n",
              "      <td>0</td>\n",
              "    </tr>\n",
              "    <tr>\n",
              "      <th>6727</th>\n",
              "      <td>2012-11-16</td>\n",
              "      <td>23.470</td>\n",
              "      <td>23.497</td>\n",
              "      <td>23.1790</td>\n",
              "      <td>23.339</td>\n",
              "      <td>72827220</td>\n",
              "      <td>0</td>\n",
              "    </tr>\n",
              "    <tr>\n",
              "      <th>...</th>\n",
              "      <td>...</td>\n",
              "      <td>...</td>\n",
              "      <td>...</td>\n",
              "      <td>...</td>\n",
              "      <td>...</td>\n",
              "      <td>...</td>\n",
              "      <td>...</td>\n",
              "    </tr>\n",
              "    <tr>\n",
              "      <th>7978</th>\n",
              "      <td>2017-11-06</td>\n",
              "      <td>84.200</td>\n",
              "      <td>84.700</td>\n",
              "      <td>84.0825</td>\n",
              "      <td>84.470</td>\n",
              "      <td>19852151</td>\n",
              "      <td>0</td>\n",
              "    </tr>\n",
              "    <tr>\n",
              "      <th>7979</th>\n",
              "      <td>2017-11-07</td>\n",
              "      <td>84.770</td>\n",
              "      <td>84.900</td>\n",
              "      <td>83.9300</td>\n",
              "      <td>84.260</td>\n",
              "      <td>17927878</td>\n",
              "      <td>0</td>\n",
              "    </tr>\n",
              "    <tr>\n",
              "      <th>7980</th>\n",
              "      <td>2017-11-08</td>\n",
              "      <td>84.140</td>\n",
              "      <td>84.610</td>\n",
              "      <td>83.8300</td>\n",
              "      <td>84.560</td>\n",
              "      <td>18029584</td>\n",
              "      <td>0</td>\n",
              "    </tr>\n",
              "    <tr>\n",
              "      <th>7981</th>\n",
              "      <td>2017-11-09</td>\n",
              "      <td>84.110</td>\n",
              "      <td>84.270</td>\n",
              "      <td>82.9000</td>\n",
              "      <td>84.090</td>\n",
              "      <td>21175384</td>\n",
              "      <td>0</td>\n",
              "    </tr>\n",
              "    <tr>\n",
              "      <th>7982</th>\n",
              "      <td>2017-11-10</td>\n",
              "      <td>83.790</td>\n",
              "      <td>84.095</td>\n",
              "      <td>83.2300</td>\n",
              "      <td>83.870</td>\n",
              "      <td>19396301</td>\n",
              "      <td>0</td>\n",
              "    </tr>\n",
              "  </tbody>\n",
              "</table>\n",
              "<p>1260 rows × 7 columns</p>\n",
              "</div>\n",
              "      <button class=\"colab-df-convert\" onclick=\"convertToInteractive('df-919a90e1-5151-4388-a6fe-f35b2e738182')\"\n",
              "              title=\"Convert this dataframe to an interactive table.\"\n",
              "              style=\"display:none;\">\n",
              "        \n",
              "  <svg xmlns=\"http://www.w3.org/2000/svg\" height=\"24px\"viewBox=\"0 0 24 24\"\n",
              "       width=\"24px\">\n",
              "    <path d=\"M0 0h24v24H0V0z\" fill=\"none\"/>\n",
              "    <path d=\"M18.56 5.44l.94 2.06.94-2.06 2.06-.94-2.06-.94-.94-2.06-.94 2.06-2.06.94zm-11 1L8.5 8.5l.94-2.06 2.06-.94-2.06-.94L8.5 2.5l-.94 2.06-2.06.94zm10 10l.94 2.06.94-2.06 2.06-.94-2.06-.94-.94-2.06-.94 2.06-2.06.94z\"/><path d=\"M17.41 7.96l-1.37-1.37c-.4-.4-.92-.59-1.43-.59-.52 0-1.04.2-1.43.59L10.3 9.45l-7.72 7.72c-.78.78-.78 2.05 0 2.83L4 21.41c.39.39.9.59 1.41.59.51 0 1.02-.2 1.41-.59l7.78-7.78 2.81-2.81c.8-.78.8-2.07 0-2.86zM5.41 20L4 18.59l7.72-7.72 1.47 1.35L5.41 20z\"/>\n",
              "  </svg>\n",
              "      </button>\n",
              "      \n",
              "  <style>\n",
              "    .colab-df-container {\n",
              "      display:flex;\n",
              "      flex-wrap:wrap;\n",
              "      gap: 12px;\n",
              "    }\n",
              "\n",
              "    .colab-df-convert {\n",
              "      background-color: #E8F0FE;\n",
              "      border: none;\n",
              "      border-radius: 50%;\n",
              "      cursor: pointer;\n",
              "      display: none;\n",
              "      fill: #1967D2;\n",
              "      height: 32px;\n",
              "      padding: 0 0 0 0;\n",
              "      width: 32px;\n",
              "    }\n",
              "\n",
              "    .colab-df-convert:hover {\n",
              "      background-color: #E2EBFA;\n",
              "      box-shadow: 0px 1px 2px rgba(60, 64, 67, 0.3), 0px 1px 3px 1px rgba(60, 64, 67, 0.15);\n",
              "      fill: #174EA6;\n",
              "    }\n",
              "\n",
              "    [theme=dark] .colab-df-convert {\n",
              "      background-color: #3B4455;\n",
              "      fill: #D2E3FC;\n",
              "    }\n",
              "\n",
              "    [theme=dark] .colab-df-convert:hover {\n",
              "      background-color: #434B5C;\n",
              "      box-shadow: 0px 1px 3px 1px rgba(0, 0, 0, 0.15);\n",
              "      filter: drop-shadow(0px 1px 2px rgba(0, 0, 0, 0.3));\n",
              "      fill: #FFFFFF;\n",
              "    }\n",
              "  </style>\n",
              "\n",
              "      <script>\n",
              "        const buttonEl =\n",
              "          document.querySelector('#df-919a90e1-5151-4388-a6fe-f35b2e738182 button.colab-df-convert');\n",
              "        buttonEl.style.display =\n",
              "          google.colab.kernel.accessAllowed ? 'block' : 'none';\n",
              "\n",
              "        async function convertToInteractive(key) {\n",
              "          const element = document.querySelector('#df-919a90e1-5151-4388-a6fe-f35b2e738182');\n",
              "          const dataTable =\n",
              "            await google.colab.kernel.invokeFunction('convertToInteractive',\n",
              "                                                     [key], {});\n",
              "          if (!dataTable) return;\n",
              "\n",
              "          const docLinkHtml = 'Like what you see? Visit the ' +\n",
              "            '<a target=\"_blank\" href=https://colab.research.google.com/notebooks/data_table.ipynb>data table notebook</a>'\n",
              "            + ' to learn more about interactive tables.';\n",
              "          element.innerHTML = '';\n",
              "          dataTable['output_type'] = 'display_data';\n",
              "          await google.colab.output.renderOutput(dataTable, element);\n",
              "          const docLink = document.createElement('div');\n",
              "          docLink.innerHTML = docLinkHtml;\n",
              "          element.appendChild(docLink);\n",
              "        }\n",
              "      </script>\n",
              "    </div>\n",
              "  </div>\n",
              "  "
            ]
          },
          "metadata": {},
          "execution_count": 54
        }
      ]
    },
    {
      "cell_type": "code",
      "source": [
        "df_5_years.shape[0]"
      ],
      "metadata": {
        "colab": {
          "base_uri": "https://localhost:8080/",
          "height": 0
        },
        "id": "x77kycqiE5N4",
        "outputId": "6c20ca29-fef1-48c3-ed21-119d179ebbd4"
      },
      "execution_count": 55,
      "outputs": [
        {
          "output_type": "execute_result",
          "data": {
            "text/plain": [
              "1260"
            ]
          },
          "metadata": {},
          "execution_count": 55
        }
      ]
    },
    {
      "cell_type": "code",
      "source": [
        "# 80% of Data = train\n",
        "# 20% of Data = test (validation)\n",
        "train_size = int(df_5_years.shape[0] * 0.8)\n",
        "train_df = df_5_years.iloc[:train_size]\n",
        "val_df = df_5_years.iloc[train_size:]"
      ],
      "metadata": {
        "id": "w5TMGb5cERSl"
      },
      "execution_count": 56,
      "outputs": []
    },
    {
      "cell_type": "code",
      "source": [
        "print('Train dataframe shape is ', train_df.shape, '\\nTest dataframe shape is ', val_df.shape, sep='')"
      ],
      "metadata": {
        "colab": {
          "base_uri": "https://localhost:8080/",
          "height": 0
        },
        "id": "QapDJOK-GZeA",
        "outputId": "27038bb7-e40e-4be7-b3fb-4db8d5d26159"
      },
      "execution_count": 57,
      "outputs": [
        {
          "output_type": "stream",
          "name": "stdout",
          "text": [
            "Train dataframe shape is (1008, 7)\n",
            "Test dataframe shape is (252, 7)\n"
          ]
        }
      ]
    },
    {
      "cell_type": "code",
      "source": [
        "print('Min Date for train Dataset is', train_df['Date'].min())\n",
        "print('Max Date for train Dataset is', train_df['Date'].max())"
      ],
      "metadata": {
        "colab": {
          "base_uri": "https://localhost:8080/",
          "height": 0
        },
        "id": "Q6TVkMI8HfJh",
        "outputId": "301b6e6e-cfde-42df-cfd0-a217633bf2d0"
      },
      "execution_count": 58,
      "outputs": [
        {
          "output_type": "stream",
          "name": "stdout",
          "text": [
            "Min Date for train Dataset is 2012-11-12 00:00:00\n",
            "Max Date for train Dataset is 2016-11-10 00:00:00\n"
          ]
        }
      ]
    },
    {
      "cell_type": "code",
      "source": [
        "print('Min Date for test Dataset is', val_df['Date'].min())\n",
        "print('Max Date for test Dataset is', val_df['Date'].max())"
      ],
      "metadata": {
        "colab": {
          "base_uri": "https://localhost:8080/",
          "height": 0
        },
        "id": "8wu7R1HrIs8C",
        "outputId": "413946cc-fa59-4da5-ae73-5bead1e57531"
      },
      "execution_count": 59,
      "outputs": [
        {
          "output_type": "stream",
          "name": "stdout",
          "text": [
            "Min Date for test Dataset is 2016-11-11 00:00:00\n",
            "Max Date for test Dataset is 2017-11-10 00:00:00\n"
          ]
        }
      ]
    },
    {
      "cell_type": "code",
      "source": [
        "# Normalization\n",
        "scaler = StandardScaler()\n",
        "scaler.fit(train_df[['Low']])"
      ],
      "metadata": {
        "colab": {
          "base_uri": "https://localhost:8080/",
          "height": 74
        },
        "id": "iSg8ur4pJP2N",
        "outputId": "31d18602-a5b4-4d9d-b7f7-3ec9ffb9a67b"
      },
      "execution_count": 60,
      "outputs": [
        {
          "output_type": "execute_result",
          "data": {
            "text/plain": [
              "StandardScaler()"
            ],
            "text/html": [
              "<style>#sk-container-id-2 {color: black;background-color: white;}#sk-container-id-2 pre{padding: 0;}#sk-container-id-2 div.sk-toggleable {background-color: white;}#sk-container-id-2 label.sk-toggleable__label {cursor: pointer;display: block;width: 100%;margin-bottom: 0;padding: 0.3em;box-sizing: border-box;text-align: center;}#sk-container-id-2 label.sk-toggleable__label-arrow:before {content: \"▸\";float: left;margin-right: 0.25em;color: #696969;}#sk-container-id-2 label.sk-toggleable__label-arrow:hover:before {color: black;}#sk-container-id-2 div.sk-estimator:hover label.sk-toggleable__label-arrow:before {color: black;}#sk-container-id-2 div.sk-toggleable__content {max-height: 0;max-width: 0;overflow: hidden;text-align: left;background-color: #f0f8ff;}#sk-container-id-2 div.sk-toggleable__content pre {margin: 0.2em;color: black;border-radius: 0.25em;background-color: #f0f8ff;}#sk-container-id-2 input.sk-toggleable__control:checked~div.sk-toggleable__content {max-height: 200px;max-width: 100%;overflow: auto;}#sk-container-id-2 input.sk-toggleable__control:checked~label.sk-toggleable__label-arrow:before {content: \"▾\";}#sk-container-id-2 div.sk-estimator input.sk-toggleable__control:checked~label.sk-toggleable__label {background-color: #d4ebff;}#sk-container-id-2 div.sk-label input.sk-toggleable__control:checked~label.sk-toggleable__label {background-color: #d4ebff;}#sk-container-id-2 input.sk-hidden--visually {border: 0;clip: rect(1px 1px 1px 1px);clip: rect(1px, 1px, 1px, 1px);height: 1px;margin: -1px;overflow: hidden;padding: 0;position: absolute;width: 1px;}#sk-container-id-2 div.sk-estimator {font-family: monospace;background-color: #f0f8ff;border: 1px dotted black;border-radius: 0.25em;box-sizing: border-box;margin-bottom: 0.5em;}#sk-container-id-2 div.sk-estimator:hover {background-color: #d4ebff;}#sk-container-id-2 div.sk-parallel-item::after {content: \"\";width: 100%;border-bottom: 1px solid gray;flex-grow: 1;}#sk-container-id-2 div.sk-label:hover label.sk-toggleable__label {background-color: #d4ebff;}#sk-container-id-2 div.sk-serial::before {content: \"\";position: absolute;border-left: 1px solid gray;box-sizing: border-box;top: 0;bottom: 0;left: 50%;z-index: 0;}#sk-container-id-2 div.sk-serial {display: flex;flex-direction: column;align-items: center;background-color: white;padding-right: 0.2em;padding-left: 0.2em;position: relative;}#sk-container-id-2 div.sk-item {position: relative;z-index: 1;}#sk-container-id-2 div.sk-parallel {display: flex;align-items: stretch;justify-content: center;background-color: white;position: relative;}#sk-container-id-2 div.sk-item::before, #sk-container-id-2 div.sk-parallel-item::before {content: \"\";position: absolute;border-left: 1px solid gray;box-sizing: border-box;top: 0;bottom: 0;left: 50%;z-index: -1;}#sk-container-id-2 div.sk-parallel-item {display: flex;flex-direction: column;z-index: 1;position: relative;background-color: white;}#sk-container-id-2 div.sk-parallel-item:first-child::after {align-self: flex-end;width: 50%;}#sk-container-id-2 div.sk-parallel-item:last-child::after {align-self: flex-start;width: 50%;}#sk-container-id-2 div.sk-parallel-item:only-child::after {width: 0;}#sk-container-id-2 div.sk-dashed-wrapped {border: 1px dashed gray;margin: 0 0.4em 0.5em 0.4em;box-sizing: border-box;padding-bottom: 0.4em;background-color: white;}#sk-container-id-2 div.sk-label label {font-family: monospace;font-weight: bold;display: inline-block;line-height: 1.2em;}#sk-container-id-2 div.sk-label-container {text-align: center;}#sk-container-id-2 div.sk-container {/* jupyter's `normalize.less` sets `[hidden] { display: none; }` but bootstrap.min.css set `[hidden] { display: none !important; }` so we also need the `!important` here to be able to override the default hidden behavior on the sphinx rendered scikit-learn.org. See: https://github.com/scikit-learn/scikit-learn/issues/21755 */display: inline-block !important;position: relative;}#sk-container-id-2 div.sk-text-repr-fallback {display: none;}</style><div id=\"sk-container-id-2\" class=\"sk-top-container\"><div class=\"sk-text-repr-fallback\"><pre>StandardScaler()</pre><b>In a Jupyter environment, please rerun this cell to show the HTML representation or trust the notebook. <br />On GitHub, the HTML representation is unable to render, please try loading this page with nbviewer.org.</b></div><div class=\"sk-container\" hidden><div class=\"sk-item\"><div class=\"sk-estimator sk-toggleable\"><input class=\"sk-toggleable__control sk-hidden--visually\" id=\"sk-estimator-id-2\" type=\"checkbox\" checked><label for=\"sk-estimator-id-2\" class=\"sk-toggleable__label sk-toggleable__label-arrow\">StandardScaler</label><div class=\"sk-toggleable__content\"><pre>StandardScaler()</pre></div></div></div></div></div>"
            ]
          },
          "metadata": {},
          "execution_count": 60
        }
      ]
    },
    {
      "cell_type": "code",
      "source": [
        "def make_dataset(\n",
        "    # Dataframe\n",
        "    df,\n",
        "    # Number of elements of time series used to make a prediction\n",
        "    window_size,\n",
        "    # Number of elements in batch\n",
        "    batch_size,\n",
        "    # Use scaler for Normalization\n",
        "    use_scaler = True,\n",
        "    # Mix elements or not\n",
        "    shuffle = True):\n",
        "  # To predict the n+1 element n previous elements will be used as features\n",
        "  # That is why n elements should be subtracted from features\n",
        "  features = df[['Low']].iloc[:-window_size]\n",
        "  # Applying Normalization:\n",
        "  if use_scaler:\n",
        "    features = scaler.transform(features)\n",
        "  # Converting Data to type float32\n",
        "  data = np.array(features, dtype=np.float32)\n",
        "  ds = tf.keras.preprocessing.timeseries_dataset_from_array(\n",
        "      data = data,\n",
        "      targets = df['Low'].iloc[window_size:],\n",
        "      sequence_length = window_size,\n",
        "      # Number of elements traversed per stride\n",
        "      sequence_stride = 1,\n",
        "      shuffle = shuffle,\n",
        "      batch_size = batch_size)\n",
        "  return ds"
      ],
      "metadata": {
        "id": "GoYYoFcqJ62m"
      },
      "execution_count": 61,
      "outputs": []
    },
    {
      "cell_type": "code",
      "source": [
        "example_ds = make_dataset(df=train_df, window_size=3, batch_size=2, use_scaler=False, shuffle=False)"
      ],
      "metadata": {
        "id": "LkJOq1JXEsKp"
      },
      "execution_count": 62,
      "outputs": []
    },
    {
      "cell_type": "code",
      "source": [
        "example_feature, example_label = next(example_ds.as_numpy_iterator())"
      ],
      "metadata": {
        "id": "jqHEMAXiLFM_"
      },
      "execution_count": 63,
      "outputs": []
    },
    {
      "cell_type": "code",
      "source": [
        "# Features shape\n",
        "example_feature.shape\n",
        "# batch size, number of elements in the sequence, feature size"
      ],
      "metadata": {
        "colab": {
          "base_uri": "https://localhost:8080/",
          "height": 0
        },
        "id": "pQhmrz5VLX5B",
        "outputId": "35565492-188f-45da-f7c1-ce3dd4d1a175"
      },
      "execution_count": 64,
      "outputs": [
        {
          "output_type": "execute_result",
          "data": {
            "text/plain": [
              "(2, 3, 1)"
            ]
          },
          "metadata": {},
          "execution_count": 64
        }
      ]
    },
    {
      "cell_type": "code",
      "source": [
        "example_label.shape\n",
        "# batch size (number of labels)"
      ],
      "metadata": {
        "colab": {
          "base_uri": "https://localhost:8080/",
          "height": 0
        },
        "id": "5Khy8uh0MZ2S",
        "outputId": "4ab58592-c57b-49f0-fa63-5f86d61d7286"
      },
      "execution_count": 65,
      "outputs": [
        {
          "output_type": "execute_result",
          "data": {
            "text/plain": [
              "(2,)"
            ]
          },
          "metadata": {},
          "execution_count": 65
        }
      ]
    },
    {
      "cell_type": "code",
      "source": [
        "# First 6 elements of the Dataset\n",
        "train_df['Low'].iloc[:6]"
      ],
      "metadata": {
        "colab": {
          "base_uri": "https://localhost:8080/",
          "height": 0
        },
        "id": "8L9Rzf7mNgYg",
        "outputId": "585d633e-552f-4920-9d3e-c7056dff2593"
      },
      "execution_count": 66,
      "outputs": [
        {
          "output_type": "execute_result",
          "data": {
            "text/plain": [
              "6723    24.624\n",
              "6724    23.540\n",
              "6725    23.582\n",
              "6726    23.432\n",
              "6727    23.179\n",
              "6728    23.292\n",
              "Name: Low, dtype: float64"
            ]
          },
          "metadata": {},
          "execution_count": 66
        }
      ]
    },
    {
      "cell_type": "code",
      "source": [
        "print(example_feature[0])\n",
        "# 3 first elements of the batch"
      ],
      "metadata": {
        "colab": {
          "base_uri": "https://localhost:8080/",
          "height": 0
        },
        "id": "RXW0_MmHN9O9",
        "outputId": "7facbd71-19d4-4db1-d6eb-dee9c1bed022"
      },
      "execution_count": 67,
      "outputs": [
        {
          "output_type": "stream",
          "name": "stdout",
          "text": [
            "[[24.624]\n",
            " [23.54 ]\n",
            " [23.582]]\n"
          ]
        }
      ]
    },
    {
      "cell_type": "code",
      "source": [
        "print(example_label[0])\n",
        "# the 4th element of the Dataset is the label"
      ],
      "metadata": {
        "colab": {
          "base_uri": "https://localhost:8080/",
          "height": 0
        },
        "id": "X-Obh4vfOWJ0",
        "outputId": "d94eedc3-57a5-4f9b-dc79-0d35306d36de"
      },
      "execution_count": 68,
      "outputs": [
        {
          "output_type": "stream",
          "name": "stdout",
          "text": [
            "23.432\n"
          ]
        }
      ]
    },
    {
      "cell_type": "code",
      "source": [
        "print(example_feature[1])"
      ],
      "metadata": {
        "colab": {
          "base_uri": "https://localhost:8080/",
          "height": 0
        },
        "id": "qfvc3OtiOEv0",
        "outputId": "3dab9340-4a7e-441c-cc6a-de14360b08a3"
      },
      "execution_count": 69,
      "outputs": [
        {
          "output_type": "stream",
          "name": "stdout",
          "text": [
            "[[23.54 ]\n",
            " [23.582]\n",
            " [23.432]]\n"
          ]
        }
      ]
    },
    {
      "cell_type": "code",
      "source": [
        "print(example_label[1])"
      ],
      "metadata": {
        "colab": {
          "base_uri": "https://localhost:8080/",
          "height": 0
        },
        "id": "A55CJPcmOMQp",
        "outputId": "6a6f50b6-8210-454f-e494-b7e8daed33cb"
      },
      "execution_count": 70,
      "outputs": [
        {
          "output_type": "stream",
          "name": "stdout",
          "text": [
            "23.179\n"
          ]
        }
      ]
    },
    {
      "cell_type": "code",
      "source": [
        "window_size = 10\n",
        "batch_size = 8\n",
        "train_ds = make_dataset(df=train_df, window_size=window_size, batch_size=batch_size, use_scaler=True, shuffle=True)\n",
        "val_ds = make_dataset(df=val_df, window_size=window_size, batch_size=batch_size, use_scaler=True, shuffle=True)"
      ],
      "metadata": {
        "id": "EeX179btQXHz"
      },
      "execution_count": 71,
      "outputs": []
    },
    {
      "cell_type": "code",
      "source": [
        "# In Sequential Class the layers are executed sequentiall. \n",
        "# In this case, first LSTM (RNN), then Dense\n",
        "lstm_model = tf.keras.models.Sequential([    \n",
        "    tf.keras.layers.LSTM(32, return_sequences=False),\n",
        "    tf.keras.layers.Dense(1)\n",
        "])"
      ],
      "metadata": {
        "id": "uJe3-vSWRA1J"
      },
      "execution_count": 72,
      "outputs": []
    },
    {
      "cell_type": "code",
      "source": [
        "def compile_and_fit(model, train_ds, val_ds, num_epochs: int = 20):\n",
        "  model.compile(\n",
        "      loss = tf.losses.MeanSquaredError(),\n",
        "      optimizer = tf.optimizers.Adam(),\n",
        "      metrics = [tf.metrics.MeanAbsoluteError()]\n",
        "  )\n",
        "  history = model.fit(\n",
        "      train_ds, \n",
        "      #num epochs = number of times train dataset samples are used \n",
        "      epochs = num_epochs,\n",
        "      validation_data = val_ds,\n",
        "      verbose = 0\n",
        "  )\n",
        "  return history"
      ],
      "metadata": {
        "id": "R4V83G0FTY9V"
      },
      "execution_count": 73,
      "outputs": []
    },
    {
      "cell_type": "code",
      "source": [
        "history = compile_and_fit(lstm_model, train_ds, val_ds, num_epochs = 100)"
      ],
      "metadata": {
        "id": "CQB5Rnl3Xm6_"
      },
      "execution_count": 74,
      "outputs": []
    },
    {
      "cell_type": "code",
      "source": [
        "plt.plot(history.history['mean_absolute_error'])"
      ],
      "metadata": {
        "colab": {
          "base_uri": "https://localhost:8080/",
          "height": 447
        },
        "id": "NdkHKxSxZOu9",
        "outputId": "a78f9a03-9bf5-48ab-c225-8ade4bbd8dfd"
      },
      "execution_count": 75,
      "outputs": [
        {
          "output_type": "execute_result",
          "data": {
            "text/plain": [
              "[<matplotlib.lines.Line2D at 0x7fe777701cf0>]"
            ]
          },
          "metadata": {},
          "execution_count": 75
        },
        {
          "output_type": "display_data",
          "data": {
            "text/plain": [
              "<Figure size 640x480 with 1 Axes>"
            ],
            "image/png": "[encoded data removed]"
          },
          "metadata": {}
        }
      ]
    },
    {
      "cell_type": "code",
      "source": [
        "plt.plot(history.history['val_mean_absolute_error'])"
      ],
      "metadata": {
        "colab": {
          "base_uri": "https://localhost:8080/",
          "height": 447
        },
        "id": "kFJG_V5IZogx",
        "outputId": "fde21e92-27e8-4da5-9920-293253b36e28"
      },
      "execution_count": 76,
      "outputs": [
        {
          "output_type": "execute_result",
          "data": {
            "text/plain": [
              "[<matplotlib.lines.Line2D at 0x7fe7774eb730>]"
            ]
          },
          "metadata": {},
          "execution_count": 76
        },
        {
          "output_type": "display_data",
          "data": {
            "text/plain": [
              "<Figure size 640x480 with 1 Axes>"
            ],
            "image/png": "[encoded data removed]"
          },
          "metadata": {}
        }
      ]
    },
    {
      "cell_type": "code",
      "source": [
        "lstm_model.evaluate(train_ds)"
      ],
      "metadata": {
        "colab": {
          "base_uri": "https://localhost:8080/",
          "height": 0
        },
        "id": "8KOoJz3HZ7BK",
        "outputId": "cd1d9347-3894-4d81-a7f0-ce1ed94567e4"
      },
      "execution_count": 77,
      "outputs": [
        {
          "output_type": "stream",
          "name": "stdout",
          "text": [
            "124/124 [==============================] - 0s 4ms/step - loss: 0.4271 - mean_absolute_error: 0.4498\n"
          ]
        },
        {
          "output_type": "execute_result",
          "data": {
            "text/plain": [
              "[0.42710080742836, 0.44977810978889465]"
            ]
          },
          "metadata": {},
          "execution_count": 77
        }
      ]
    },
    {
      "cell_type": "code",
      "source": [
        "lstm_model.evaluate(val_ds)"
      ],
      "metadata": {
        "colab": {
          "base_uri": "https://localhost:8080/",
          "height": 0
        },
        "id": "ot7N6Fm0aGJv",
        "outputId": "4db8e9cd-1cd8-452d-b981-3594eccb1b4c"
      },
      "execution_count": 78,
      "outputs": [
        {
          "output_type": "stream",
          "name": "stdout",
          "text": [
            "30/30 [==============================] - 0s 3ms/step - loss: 95.0061 - mean_absolute_error: 8.2888\n"
          ]
        },
        {
          "output_type": "execute_result",
          "data": {
            "text/plain": [
              "[95.00608825683594, 8.288752555847168]"
            ]
          },
          "metadata": {},
          "execution_count": 78
        }
      ]
    },
    {
      "cell_type": "markdown",
      "source": [
        "The values are very different. That means the model is retraining itself"
      ],
      "metadata": {
        "id": "HlZkDIt5aTbe"
      }
    },
    {
      "cell_type": "code",
      "source": [
        "# Different number of epochs\n",
        "lstm_model = tf.keras.models.Sequential([    \n",
        "    tf.keras.layers.LSTM(32, return_sequences=False),\n",
        "    tf.keras.layers.Dense(1)\n",
        "])\n",
        "\n",
        "history = compile_and_fit(lstm_model, train_ds, val_ds, num_epochs = 200)"
      ],
      "metadata": {
        "id": "ojk5ct9VbjB7"
      },
      "execution_count": 79,
      "outputs": []
    },
    {
      "cell_type": "code",
      "source": [
        "lstm_model.evaluate(train_ds)"
      ],
      "metadata": {
        "colab": {
          "base_uri": "https://localhost:8080/",
          "height": 0
        },
        "id": "riMxlXfdcDUJ",
        "outputId": "f2bcb070-d465-44b8-d6ad-6ee2e33a2ab0"
      },
      "execution_count": 80,
      "outputs": [
        {
          "output_type": "stream",
          "name": "stdout",
          "text": [
            "124/124 [==============================] - 1s 4ms/step - loss: 0.3803 - mean_absolute_error: 0.4285\n"
          ]
        },
        {
          "output_type": "execute_result",
          "data": {
            "text/plain": [
              "[0.3802919387817383, 0.428501158952713]"
            ]
          },
          "metadata": {},
          "execution_count": 80
        }
      ]
    },
    {
      "cell_type": "code",
      "source": [
        "lstm_model.evaluate(val_ds)"
      ],
      "metadata": {
        "colab": {
          "base_uri": "https://localhost:8080/",
          "height": 0
        },
        "id": "nXpoBCaGcE-y",
        "outputId": "c933a9ef-3d66-4b76-d27a-2a9855d554dd"
      },
      "execution_count": 81,
      "outputs": [
        {
          "output_type": "stream",
          "name": "stdout",
          "text": [
            "30/30 [==============================] - 0s 4ms/step - loss: 189.0219 - mean_absolute_error: 10.2191\n"
          ]
        },
        {
          "output_type": "execute_result",
          "data": {
            "text/plain": [
              "[189.02188110351562, 10.219088554382324]"
            ]
          },
          "metadata": {},
          "execution_count": 81
        }
      ]
    },
    {
      "cell_type": "code",
      "source": [
        "plt.plot(history.history['mean_absolute_error'])"
      ],
      "metadata": {
        "colab": {
          "base_uri": "https://localhost:8080/",
          "height": 447
        },
        "id": "GVH2QLvDjxG3",
        "outputId": "cbaa602d-62dc-4398-c31f-d0bc159fa2e0"
      },
      "execution_count": 82,
      "outputs": [
        {
          "output_type": "execute_result",
          "data": {
            "text/plain": [
              "[<matplotlib.lines.Line2D at 0x7fe775623160>]"
            ]
          },
          "metadata": {},
          "execution_count": 82
        },
        {
          "output_type": "display_data",
          "data": {
            "text/plain": [
              "<Figure size 640x480 with 1 Axes>"
            ],
            "image/png": "[encoded data removed]"
          },
          "metadata": {}
        }
      ]
    },
    {
      "cell_type": "code",
      "source": [
        "plt.plot(history.history['val_mean_absolute_error'])"
      ],
      "metadata": {
        "colab": {
          "base_uri": "https://localhost:8080/",
          "height": 451
        },
        "id": "2PSa5PZZj_tk",
        "outputId": "0b0a67d3-1bce-49fe-e659-be0896eecbf5"
      },
      "execution_count": 83,
      "outputs": [
        {
          "output_type": "execute_result",
          "data": {
            "text/plain": [
              "[<matplotlib.lines.Line2D at 0x7fe7756c8970>]"
            ]
          },
          "metadata": {},
          "execution_count": 83
        },
        {
          "output_type": "display_data",
          "data": {
            "text/plain": [
              "<Figure size 640x480 with 1 Axes>"
            ],
            "image/png": "[encoded data removed]"
          },
          "metadata": {}
        }
      ]
    },
    {
      "cell_type": "markdown",
      "source": [
        "The difference in the plots is the process of retraining"
      ],
      "metadata": {
        "id": "TZLuxT8skJrf"
      }
    },
    {
      "cell_type": "code",
      "source": [
        "# Applying Drop-out method\n",
        "# Different number of epochs\n",
        "lstm_model = tf.keras.models.Sequential([    \n",
        "    tf.keras.layers.LSTM(32, return_sequences=False),\n",
        "    tf.keras.layers.Dropout(0.2),\n",
        "    tf.keras.layers.Dense(1)\n",
        "])\n",
        "\n",
        "history = compile_and_fit(lstm_model, train_ds, val_ds, num_epochs = 200)"
      ],
      "metadata": {
        "id": "S-uVIsZ2kikD"
      },
      "execution_count": 84,
      "outputs": []
    },
    {
      "cell_type": "code",
      "source": [
        "lstm_model.evaluate(train_ds)"
      ],
      "metadata": {
        "colab": {
          "base_uri": "https://localhost:8080/",
          "height": 0
        },
        "id": "qRV2ZFGQlEaV",
        "outputId": "a7417494-89b7-41e6-b483-5caac05f2a16"
      },
      "execution_count": 85,
      "outputs": [
        {
          "output_type": "stream",
          "name": "stdout",
          "text": [
            "124/124 [==============================] - 0s 4ms/step - loss: 0.7548 - mean_absolute_error: 0.6878\n"
          ]
        },
        {
          "output_type": "execute_result",
          "data": {
            "text/plain": [
              "[0.7548012137413025, 0.687798023223877]"
            ]
          },
          "metadata": {},
          "execution_count": 85
        }
      ]
    },
    {
      "cell_type": "code",
      "source": [
        "lstm_model.evaluate(val_ds)"
      ],
      "metadata": {
        "colab": {
          "base_uri": "https://localhost:8080/",
          "height": 0
        },
        "id": "MYkjBhnylE3g",
        "outputId": "28650cde-065f-4d91-ef60-e4f343b210d4"
      },
      "execution_count": 86,
      "outputs": [
        {
          "output_type": "stream",
          "name": "stdout",
          "text": [
            "30/30 [==============================] - 0s 4ms/step - loss: 43.2630 - mean_absolute_error: 5.5918\n"
          ]
        },
        {
          "output_type": "execute_result",
          "data": {
            "text/plain": [
              "[43.26302719116211, 5.591761112213135]"
            ]
          },
          "metadata": {},
          "execution_count": 86
        }
      ]
    },
    {
      "cell_type": "code",
      "source": [
        "plt.plot(history.history['mean_absolute_error'])"
      ],
      "metadata": {
        "colab": {
          "base_uri": "https://localhost:8080/",
          "height": 447
        },
        "id": "57et23tNlPyb",
        "outputId": "a9cb60c8-56b2-4098-e80f-063f257ccdb7"
      },
      "execution_count": 87,
      "outputs": [
        {
          "output_type": "execute_result",
          "data": {
            "text/plain": [
              "[<matplotlib.lines.Line2D at 0x7fe774ef97b0>]"
            ]
          },
          "metadata": {},
          "execution_count": 87
        },
        {
          "output_type": "display_data",
          "data": {
            "text/plain": [
              "<Figure size 640x480 with 1 Axes>"
            ],
            "image/png": "[encoded data removed]"
          },
          "metadata": {}
        }
      ]
    },
    {
      "cell_type": "code",
      "source": [
        "plt.plot(history.history['val_mean_absolute_error'])"
      ],
      "metadata": {
        "colab": {
          "base_uri": "https://localhost:8080/",
          "height": 447
        },
        "id": "vFJJSVPflQOt",
        "outputId": "91f93816-bc44-4b65-a29c-0a41d2ead794"
      },
      "execution_count": 88,
      "outputs": [
        {
          "output_type": "execute_result",
          "data": {
            "text/plain": [
              "[<matplotlib.lines.Line2D at 0x7fe774d563b0>]"
            ]
          },
          "metadata": {},
          "execution_count": 88
        },
        {
          "output_type": "display_data",
          "data": {
            "text/plain": [
              "<Figure size 640x480 with 1 Axes>"
            ],
            "image/png": "[encoded data removed]"
          },
          "metadata": {}
        }
      ]
    }
  ]
}